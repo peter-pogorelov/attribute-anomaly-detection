{
 "cells": [
  {
   "cell_type": "code",
   "execution_count": 1,
   "metadata": {},
   "outputs": [],
   "source": [
    "from scipy import stats\n",
    "from scipy.stats import entropy\n",
    "import numpy as np\n",
    "import pandas as pd\n",
    "import seaborn as sns\n",
    "import matplotlib.pyplot as plt"
   ]
  },
  {
   "cell_type": "code",
   "execution_count": 2,
   "metadata": {},
   "outputs": [],
   "source": [
    "np.set_printoptions(suppress=True)"
   ]
  },
  {
   "cell_type": "code",
   "execution_count": 5,
   "metadata": {},
   "outputs": [],
   "source": [
    "def is_number_repl_isdigit(s):\n",
    "    \"\"\" Returns True if string is a number. \"\"\"\n",
    "    if isinstance(s, str):\n",
    "        return s.replace('.','',1).isdigit()\n",
    "    else:\n",
    "        return True\n",
    "\n",
    "    \n",
    "def get_num_feature_stats(vals: pd.Series):\n",
    "    is_digit_values = vals.apply(is_number_repl_isdigit)\n",
    "    \n",
    "    vals_digit = vals[is_digit_values].astype('float')\n",
    "    vals_not_digit = vals[~is_digit_values]\n",
    "    \n",
    "    is_nan = vals_digit.isna()\n",
    "    vals_digit_not_nan = vals_digit[~is_nan]\n",
    "    \n",
    "    if not vals_digit_not_nan.empty:\n",
    "        quantiles = np.quantile(vals_digit_not_nan, [0.25, 0.5, 0.75, 0.95])\n",
    "        descr = stats.describe(vals_digit_not_nan)\n",
    "        \n",
    "        return quantiles.tolist() + [\n",
    "            len(vals_digit_not_nan)-len(vals_digit_not_nan.drop_duplicates()),\n",
    "            descr.nobs, \n",
    "            descr.minmax[0], \n",
    "            descr.minmax[1], \n",
    "            descr.mean, \n",
    "            np.sqrt(descr.variance), \n",
    "            descr.skewness, \n",
    "            descr.kurtosis,\n",
    "            is_digit_values.sum() / vals.shape[0],\n",
    "            is_nan.sum() / vals.shape[0]\n",
    "        ]\n",
    "    else:\n",
    "        return [-1, -1, -1, -1, -1, -1, -1, -1, -1, -1, -1, (~is_digit_values).sum() / vals.shape[0], is_nan.sum() / vals.shape[0]]"
   ]
  },
  {
   "cell_type": "code",
   "execution_count": 6,
   "metadata": {},
   "outputs": [],
   "source": [
    "def get_cat_feature_stats(vals: pd.Series):\n",
    "    vals_counts = vals.value_counts()\n",
    "    vals_probas = vals_counts / vals_counts.sum()\n",
    "    entr = entropy(vals_probas.values)    \n",
    "    vals_probas_log = np.log(vals_probas)\n",
    "    descr = stats.describe(vals_probas_log)\n",
    "    \n",
    "    # добавить log odds\n",
    "    # добавить count - количество уникальных атрибутов\n",
    "    \n",
    "    quantiles = np.quantile(vals_probas_log, [0.25, 0.5, 0.75, 0.95])\n",
    "    \n",
    "    return quantiles.tolist() + [\n",
    "        entr, \n",
    "        descr.nobs, \n",
    "        descr.minmax[0], \n",
    "        descr.minmax[1], \n",
    "    ]"
   ]
  },
  {
   "cell_type": "markdown",
   "metadata": {},
   "source": [
    "# MAKE GROUP-LEVEL FEATURIZED DATASET"
   ]
  },
  {
   "cell_type": "code",
   "execution_count": null,
   "metadata": {},
   "outputs": [],
   "source": []
  },
  {
   "cell_type": "markdown",
   "metadata": {},
   "source": [
    "# MAKE ANOMALY-LEVEL FEATURIZED DATASET"
   ]
  },
  {
   "cell_type": "code",
   "execution_count": 11,
   "metadata": {},
   "outputs": [],
   "source": [
    "DIRTY_SINGLE_ANOMALY_PATH = \"./Datasets/Real/BankChurners/DirtySingleAnomaly\"\n",
    "DIRTY_SINGLE_ANOMALY_FEATURIZED_PATH = \"./Datasets/Featurized/BankChurners/DirtySingleAnomaly\""
   ]
  },
  {
   "cell_type": "code",
   "execution_count": null,
   "metadata": {},
   "outputs": [],
   "source": []
  },
  {
   "cell_type": "markdown",
   "metadata": {},
   "source": [
    "# MAKE COLUMN-LEVEL FEATURIZED DATASET"
   ]
  },
  {
   "cell_type": "code",
   "execution_count": null,
   "metadata": {},
   "outputs": [],
   "source": []
  }
 ],
 "metadata": {
  "kernelspec": {
   "display_name": "Python 3",
   "language": "python",
   "name": "python3"
  },
  "language_info": {
   "codemirror_mode": {
    "name": "ipython",
    "version": 3
   },
   "file_extension": ".py",
   "mimetype": "text/x-python",
   "name": "python",
   "nbconvert_exporter": "python",
   "pygments_lexer": "ipython3",
   "version": "3.7.9"
  }
 },
 "nbformat": 4,
 "nbformat_minor": 4
}
