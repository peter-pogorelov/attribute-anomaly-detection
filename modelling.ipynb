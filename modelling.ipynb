{
 "cells": [
  {
   "cell_type": "code",
   "execution_count": 1,
   "metadata": {},
   "outputs": [],
   "source": [
    "# num_features = описательные статистики\n",
    "# cat_features = энтропия, число уникальных значений, наличие чисел, логарифм вероятности наименьшего, логарифм вероятности наибольшего\n",
    "# name_features = энтропия распределения по символам, количество слов (описательные статистики), количество символов в 1-3 словах (описательные статистики), наличие заглавных букв\n",
    "# text_features = энтропия распределения по символам, описательные статистики от средней длины в символах / словах, описательные статистики числа кириллицы, латиницы, спецсимволов\n",
    "# date_features = делим на 3 компоненты, добавляем небольшой шум, строим по ним описательные статистики\n"
   ]
  },
  {
   "cell_type": "code",
   "execution_count": 813,
   "metadata": {},
   "outputs": [
    {
     "data": {
      "text/plain": [
       "4"
      ]
     },
     "execution_count": 813,
     "metadata": {},
     "output_type": "execute_result"
    }
   ],
   "source": [
    "np.random.choice(5)"
   ]
  },
  {
   "cell_type": "code",
   "execution_count": 123,
   "metadata": {},
   "outputs": [],
   "source": [
    "%config Completer.use_jedi = False"
   ]
  },
  {
   "cell_type": "code",
   "execution_count": 655,
   "metadata": {},
   "outputs": [],
   "source": [
    "from scipy import stats\n",
    "from scipy.stats import entropy\n",
    "import numpy as np\n",
    "import pandas as pd\n",
    "import seaborn as sns\n",
    "import matplotlib.pyplot as plt"
   ]
  },
  {
   "cell_type": "code",
   "execution_count": 174,
   "metadata": {},
   "outputs": [],
   "source": [
    "np.set_printoptions(suppress=True)"
   ]
  },
  {
   "cell_type": "code",
   "execution_count": 857,
   "metadata": {},
   "outputs": [],
   "source": [
    "def is_number_repl_isdigit(s):\n",
    "    \"\"\" Returns True if string is a number. \"\"\"\n",
    "    if isinstance(s, str):\n",
    "        return s.replace('.','',1).isdigit()\n",
    "    else:\n",
    "        return True\n",
    "\n",
    "    \n",
    "# ДОБАВИТЬ ПОИСК ДУБЛИКАТОВ\n",
    "def get_num_feature_stats(vals: pd.Series):\n",
    "    is_digit_values = vals.apply(is_number_repl_isdigit)\n",
    "    \n",
    "    vals_digit = vals[is_digit_values].astype('float')\n",
    "    vals_not_digit = vals[~is_digit_values]\n",
    "    \n",
    "    is_nan = vals_digit.isna()\n",
    "    vals_digit_not_nan = vals_digit[~is_nan]\n",
    "    \n",
    "    if not vals_digit_not_nan.empty:\n",
    "        quantiles = np.quantile(vals_digit_not_nan, [0.25, 0.5, 0.75, 0.95])\n",
    "        descr = stats.describe(vals_digit_not_nan)\n",
    "        \n",
    "        return quantiles.tolist() + [\n",
    "            descr.nobs, \n",
    "            descr.minmax[0], \n",
    "            descr.minmax[1], \n",
    "            descr.mean, \n",
    "            np.sqrt(descr.variance), \n",
    "            descr.skewness, \n",
    "            descr.kurtosis,\n",
    "            is_digit_values.sum() / vals.shape[0],\n",
    "            is_nan.sum() / vals.shape[0]\n",
    "        ]\n",
    "    else:\n",
    "        return [-1, -1, -1, -1, -1, -1, -1, -1, -1, -1, -1, (~is_digit_values).sum() / vals.shape[0], is_nan.sum() / vals.shape[0]]"
   ]
  },
  {
   "cell_type": "code",
   "execution_count": 858,
   "metadata": {},
   "outputs": [],
   "source": [
    "def get_cat_feature_stats(vals: pd.Series):\n",
    "    vals_counts = vals.value_counts()\n",
    "    vals_probas = vals_counts / vals_counts.sum()\n",
    "    entr = entropy(vals_probas.values)    \n",
    "    vals_probas_log = np.log(vals_probas)\n",
    "    descr = stats.describe(vals_probas_log)\n",
    "    \n",
    "    # добавить log odds\n",
    "    # добавить count - количество уникальных атрибутов\n",
    "    \n",
    "    quantiles = np.quantile(vals_probas_log, [0.25, 0.5, 0.75, 0.95])\n",
    "    \n",
    "    return quantiles.tolist() + [\n",
    "        entr, \n",
    "        descr.nobs, \n",
    "        descr.minmax[0], \n",
    "        descr.minmax[1], \n",
    "    ]"
   ]
  },
  {
   "cell_type": "code",
   "execution_count": 859,
   "metadata": {},
   "outputs": [
    {
     "data": {
      "text/plain": [
       "[1.0,\n",
       " 2.0,\n",
       " 3.0,\n",
       " 3.8,\n",
       " 5,\n",
       " 0.0,\n",
       " 4.0,\n",
       " 2.0,\n",
       " 1.5811388300841898,\n",
       " 0.0,\n",
       " -1.3,\n",
       " 1.0,\n",
       " 0.16666666666666666]"
      ]
     },
     "execution_count": 859,
     "metadata": {},
     "output_type": "execute_result"
    }
   ],
   "source": [
    "get_num_feature_stats(pd.Series([0,'1','2',3,4,np.nan]))"
   ]
  },
  {
   "cell_type": "code",
   "execution_count": 860,
   "metadata": {},
   "outputs": [
    {
     "data": {
      "text/plain": [
       "[-1.791759469228055,\n",
       " -1.791759469228055,\n",
       " -1.4451858789480823,\n",
       " -1.0986122886681098,\n",
       " -1.0986122886681098,\n",
       " 1.3296613488547582,\n",
       " 0.6666666666666666,\n",
       " -1.791759469228055,\n",
       " -1.0986122886681098]"
      ]
     },
     "execution_count": 860,
     "metadata": {},
     "output_type": "execute_result"
    }
   ],
   "source": [
    "get_cat_feature_stats(pd.Series(['a', 'a', 'b', 'b', 'c', 23]))"
   ]
  },
  {
   "cell_type": "markdown",
   "metadata": {},
   "source": [
    "# Скачивание данных"
   ]
  },
  {
   "cell_type": "code",
   "execution_count": 861,
   "metadata": {},
   "outputs": [],
   "source": [
    "import os\n",
    "import json"
   ]
  },
  {
   "cell_type": "code",
   "execution_count": 862,
   "metadata": {},
   "outputs": [],
   "source": [
    "FEATURE_CATEGORICAL = 'categorical'\n",
    "FEATURE_NUMERIC = 'numeric'\n",
    "\n",
    "metadata = json.load(open(\"./Datasets/Real/BankChurners/metadata.json\", 'r'))"
   ]
  },
  {
   "cell_type": "code",
   "execution_count": 863,
   "metadata": {},
   "outputs": [
    {
     "data": {
      "text/plain": [
       "dict_keys(['CLIENTNUM', 'Attrition_Flag', 'Customer_Age', 'Gender', 'Dependent_count', 'Education_Level', 'Marital_Status', 'Income_Category', 'Card_Category', 'Months_on_book', 'Total_Relationship_Count', 'Months_Inactive_12_mon', 'Contacts_Count_12_mon', 'Credit_Limit', 'Total_Revolving_Bal', 'Avg_Open_To_Buy', 'Total_Amt_Chng_Q4_Q1', 'Total_Trans_Amt', 'Total_Ct_Chng_Q4_Q1', 'Avg_Utilization_Ratio'])"
      ]
     },
     "execution_count": 863,
     "metadata": {},
     "output_type": "execute_result"
    }
   ],
   "source": [
    "metadata.keys()"
   ]
  },
  {
   "cell_type": "markdown",
   "metadata": {},
   "source": [
    "### Чистые данные"
   ]
  },
  {
   "cell_type": "code",
   "execution_count": 864,
   "metadata": {},
   "outputs": [],
   "source": [
    "CLEAN_DATASET_DIR = './Datasets/Real/BankChurners/Clear'\n",
    "\n",
    "features = {}\n",
    "for fname in os.listdir(CLEAN_DATASET_DIR):\n",
    "    if fname.endswith('.csv'):\n",
    "        dataframe = pd.read_csv(f'{CLEAN_DATASET_DIR}/{fname}')\n",
    "        \n",
    "        for k, v in metadata.items():\n",
    "            if k not in features:\n",
    "                features[k] = []\n",
    "            \n",
    "            if v == FEATURE_CATEGORICAL:\n",
    "                features[k].append(get_cat_feature_stats(dataframe[k]))\n",
    "            elif v == FEATURE_NUMERIC:\n",
    "                features[k].append(get_num_feature_stats(dataframe[k]))\n",
    "                \n",
    "features_clean = features"
   ]
  },
  {
   "cell_type": "markdown",
   "metadata": {},
   "source": [
    "### Аномалии (Группированные)"
   ]
  },
  {
   "cell_type": "code",
   "execution_count": 865,
   "metadata": {},
   "outputs": [
    {
     "name": "stderr",
     "output_type": "stream",
     "text": [
      "/Users/ppogorelov/VirtualEnv/v2/lib/python3.7/site-packages/numpy/core/fromnumeric.py:3724: RuntimeWarning: Degrees of freedom <= 0 for slice\n",
      "  **kwargs)\n",
      "/Users/ppogorelov/VirtualEnv/v2/lib/python3.7/site-packages/numpy/core/_methods.py:254: RuntimeWarning: invalid value encountered in double_scalars\n",
      "  ret = ret.dtype.type(ret / rcount)\n"
     ]
    }
   ],
   "source": [
    "DIRTY_DATASET_DIR = './Datasets/Real/BankChurners/DirtyGrouped'\n",
    "\n",
    "dirty_datasets_grouped = {}\n",
    "for fname in os.listdir(DIRTY_DATASET_DIR):\n",
    "    if fname.endswith('.csv'):\n",
    "        dirty_datasets_grouped[fname] = {}\n",
    "        features = dirty_datasets_grouped[fname]\n",
    "        dataframe = pd.read_csv(f'{DIRTY_DATASET_DIR}/{fname}')\n",
    "        \n",
    "        for k, v in metadata.items():\n",
    "            if k not in features:\n",
    "                features[k] = []\n",
    "            \n",
    "            if v == FEATURE_CATEGORICAL:\n",
    "                features[k] = get_cat_feature_stats(dataframe[k])\n",
    "            elif v == FEATURE_NUMERIC:\n",
    "                features[k] = get_num_feature_stats(dataframe[k])"
   ]
  },
  {
   "cell_type": "code",
   "execution_count": 866,
   "metadata": {},
   "outputs": [
    {
     "data": {
      "text/plain": [
       "dict_keys(['beta.csv', 'alpha.csv'])"
      ]
     },
     "execution_count": 866,
     "metadata": {},
     "output_type": "execute_result"
    }
   ],
   "source": [
    "dirty_datasets_grouped.keys()"
   ]
  },
  {
   "cell_type": "markdown",
   "metadata": {},
   "source": [
    "### Объединение данных (Группированные данные)"
   ]
  },
  {
   "cell_type": "code",
   "execution_count": 867,
   "metadata": {},
   "outputs": [],
   "source": [
    "for dname, dvalue in dirty_datasets_grouped.items():\n",
    "    for fname, fvalue in features_clean.items():\n",
    "        dvalue[fname] = fvalue + [dvalue[fname]]"
   ]
  },
  {
   "cell_type": "markdown",
   "metadata": {},
   "source": [
    "# Алгоритм поиска аномальных факторов"
   ]
  },
  {
   "cell_type": "code",
   "execution_count": 930,
   "metadata": {},
   "outputs": [],
   "source": [
    "from sklearn.ensemble import IsolationForest\n",
    "from sklearn.neighbors import LocalOutlierFactor\n",
    "from sklearn.svm import OneClassSVM\n",
    "from sklearn.preprocessing import StandardScaler\n",
    "import scipy.stats as ss"
   ]
  },
  {
   "cell_type": "code",
   "execution_count": 869,
   "metadata": {},
   "outputs": [],
   "source": [
    "from pyod.models.iforest import IForest\n",
    "import eif"
   ]
  },
  {
   "cell_type": "code",
   "execution_count": 911,
   "metadata": {},
   "outputs": [],
   "source": [
    "forest = IsolationForest(n_estimators=100, random_state=42)\n",
    "lof = LocalOutlierFactor(n_neighbors=15, novelty=True)"
   ]
  },
  {
   "cell_type": "code",
   "execution_count": 960,
   "metadata": {},
   "outputs": [],
   "source": [
    "column_to_features = {k: np.array(v) for k, v in dirty_datasets_grouped['alpha.csv'].items()}"
   ]
  },
  {
   "cell_type": "code",
   "execution_count": 961,
   "metadata": {},
   "outputs": [
    {
     "data": {
      "text/plain": [
       "array([  1.43265894,   1.43265857,   1.98906772,   1.4150856 ,\n",
       "         2.93001893,   1.1586962 ,   1.17652846,   1.69601968,\n",
       "         1.99720413,   1.8232184 ,   1.08595935,   1.4318592 ,\n",
       "         1.28339418,   0.77554496,   1.11764854,   1.86049056,\n",
       "         1.13396414,   0.30573843,   1.75961388,   1.43227791,\n",
       "         1.27076288,   1.43749496,   1.43205695,   0.62383076,\n",
       "         1.96760768,   1.69834709,   1.43183276,   1.50115401,\n",
       "         1.09896765,   2.38971048, -44.08941299])"
      ]
     },
     "execution_count": 961,
     "metadata": {},
     "output_type": "execute_result"
    }
   ],
   "source": [
    "lof.score_samples(fvalue_trans)"
   ]
  },
  {
   "cell_type": "code",
   "execution_count": 962,
   "metadata": {},
   "outputs": [],
   "source": [
    "column_to_scores_forest = {}\n",
    "column_to_scores_lof = {}\n",
    "\n",
    "column_to_preds_forest = {}\n",
    "column_to_scores_lof = {}\n",
    "\n",
    "for fname, fvalue in column_to_features.items():\n",
    "    forest = IsolationForest(n_estimators=100, random_state=42)\n",
    "    #lof = LocalOutlierFactor(n_neighbors=15, novelty=True)\n",
    "    lof = OneClassSVM(kernel='linear')\n",
    "    scaler = StandardScaler()\n",
    "    \n",
    "    fvalue_trans = scaler.fit_transform(fvalue)\n",
    "    \n",
    "    forest.fit(fvalue_trans)\n",
    "    lof.fit(fvalue_trans[:-1])\n",
    "    \n",
    "    column_to_scores_forest[fname] = forest.decision_function(fvalue_trans)\n",
    "    #column_to_scores_lof[fname] = (-lof.negative_outlier_factor_).tolist() + -lof.score_samples([fvalue_trans[-1]])\n",
    "    column_to_scores_lof[fname] = -lof.score_samples(fvalue_trans)\n",
    "    \n",
    "    expon_params_forest = ss.expon.fit(column_to_scores_forest[fname][:-1] - 1)\n",
    "    expon_params_lof = ss.expon.fit(column_to_scores_lof[fname][:-1] - 1)\n",
    "    \n",
    "    column_to_preds_forest[fname] = ss.expon.cdf([column_to_scores_forest[fname][-1] - 1], *expon_params_forest)\n",
    "    column_to_preds_lof[fname] = ss.expon.cdf([column_to_scores_lof[fname][-1] - 1], *expon_params_lof)\n",
    "    \n",
    "    #preds = -preds\n",
    "    #preds[preds < 0] = 0"
   ]
  },
  {
   "cell_type": "code",
   "execution_count": 963,
   "metadata": {},
   "outputs": [
    {
     "data": {
      "text/plain": [
       "{'CLIENTNUM': array([0.90373705]),\n",
       " 'Attrition_Flag': array([1.]),\n",
       " 'Customer_Age': array([0.7212009]),\n",
       " 'Gender': array([1.]),\n",
       " 'Dependent_count': array([0.58707978]),\n",
       " 'Education_Level': array([1.]),\n",
       " 'Marital_Status': array([1.]),\n",
       " 'Income_Category': array([0.65213083]),\n",
       " 'Card_Category': array([0.72326455]),\n",
       " 'Months_on_book': array([0.74988109]),\n",
       " 'Total_Relationship_Count': array([0.77957524]),\n",
       " 'Months_Inactive_12_mon': array([0.85052332]),\n",
       " 'Contacts_Count_12_mon': array([0.]),\n",
       " 'Credit_Limit': array([1.]),\n",
       " 'Total_Revolving_Bal': array([1.]),\n",
       " 'Avg_Open_To_Buy': array([0.46907718]),\n",
       " 'Total_Amt_Chng_Q4_Q1': array([0.726767]),\n",
       " 'Total_Trans_Amt': array([1.]),\n",
       " 'Total_Ct_Chng_Q4_Q1': array([0.70320378]),\n",
       " 'Avg_Utilization_Ratio': array([0.66582985])}"
      ]
     },
     "execution_count": 963,
     "metadata": {},
     "output_type": "execute_result"
    }
   ],
   "source": [
    "column_to_preds_lof"
   ]
  },
  {
   "cell_type": "code",
   "execution_count": 964,
   "metadata": {},
   "outputs": [
    {
     "name": "stderr",
     "output_type": "stream",
     "text": [
      "/Users/ppogorelov/VirtualEnv/v2/lib/python3.7/site-packages/seaborn/_decorators.py:43: FutureWarning: Pass the following variable as a keyword arg: x. From version 0.12, the only valid positional argument will be `data`, and passing other arguments without an explicit keyword will result in an error or misinterpretation.\n",
      "  FutureWarning\n"
     ]
    },
    {
     "data": {
      "text/plain": [
       "<matplotlib.collections.PathCollection at 0x7fb53fb48d90>"
      ]
     },
     "execution_count": 964,
     "metadata": {},
     "output_type": "execute_result"
    },
    {
     "data": {
      "image/png": "[encoded data removed]",
      "text/plain": [
       "<Figure size 432x288 with 1 Axes>"
      ]
     },
     "metadata": {
      "needs_background": "light"
     },
     "output_type": "display_data"
    }
   ],
   "source": [
    "ax = sns.boxplot(column_to_scores_lof['Attrition_Flag'])\n",
    "ax.scatter(column_to_scores_lof['Attrition_Flag'][-1], 0, color='r', marker='x', s=300)"
   ]
  },
  {
   "cell_type": "code",
   "execution_count": 965,
   "metadata": {},
   "outputs": [
    {
     "data": {
      "text/plain": [
       "<AxesSubplot:>"
      ]
     },
     "execution_count": 965,
     "metadata": {},
     "output_type": "execute_result"
    },
    {
     "data": {
      "image/png": "[encoded data removed]",
      "text/plain": [
       "<Figure size 1080x360 with 1 Axes>"
      ]
     },
     "metadata": {
      "needs_background": "light"
     },
     "output_type": "display_data"
    }
   ],
   "source": [
    "plt.figure(figsize=(15, 5))\n",
    "plt.xticks(rotation=45)\n",
    "sns.boxplot(data=pd.DataFrame(column_to_scores_lof))#.drop(['Attrition_Flag', 'Gender'], axis=1))"
   ]
  },
  {
   "cell_type": "code",
   "execution_count": 887,
   "metadata": {},
   "outputs": [
    {
     "data": {
      "text/plain": [
       "<AxesSubplot:>"
      ]
     },
     "execution_count": 887,
     "metadata": {},
     "output_type": "execute_result"
    },
    {
     "data": {
      "image/png": "[encoded data removed]",
      "text/plain": [
       "<Figure size 432x288 with 1 Axes>"
      ]
     },
     "metadata": {
      "needs_background": "light"
     },
     "output_type": "display_data"
    }
   ],
   "source": [
    "pd.Series(column_to_preds_lof['Credit_Limit']).hist(bins=20)"
   ]
  },
  {
   "cell_type": "code",
   "execution_count": 878,
   "metadata": {},
   "outputs": [],
   "source": [
    "#column_to_features['Dependent_count'][21]"
   ]
  },
  {
   "cell_type": "code",
   "execution_count": 879,
   "metadata": {},
   "outputs": [
    {
     "data": {
      "text/plain": [
       "array([[ 0.02026013, -0.73975002,  0.01112345,  0.76507407,  0.18257419,\n",
       "        -0.        ,  0.        , -0.5860795 , -0.49027079,  0.82333783,\n",
       "         0.85318321,  0.        , -0.18257419],\n",
       "       [-0.6897254 , -0.46322322, -0.96728299,  0.76507407,  0.18257419,\n",
       "        -0.        ,  0.        , -0.44850964,  0.32186445,  0.80937744,\n",
       "         0.42258353,  0.        , -0.18257419],\n",
       "       [ 1.54945975,  0.1365673 , -0.06235371,  0.76507407,  0.18257419,\n",
       "        -0.        ,  0.        , -0.01397873,  0.10570392,  0.523313  ,\n",
       "         0.34967277,  0.        , -0.18257419],\n",
       "       [ 0.98283668,  1.25435872,  0.42620497, -0.77326526,  0.18257419,\n",
       "        -0.        ,  0.        ,  0.33698033, -0.53069869, -0.54198022,\n",
       "        -0.23449666,  0.        , -0.18257419],\n",
       "       [ 0.56640285, -0.11659104,  0.21350792,  0.76507407,  0.18257419,\n",
       "        -0.        ,  0.        ,  0.10811307,  0.25858142, -0.08665889,\n",
       "        -0.15142642,  0.        , -0.18257419],\n",
       "       [-0.07531484,  1.79183334,  0.94634595,  0.76507407,  0.18257419,\n",
       "        -0.        ,  0.        ,  1.24517852,  0.91928493, -1.34793395,\n",
       "        -1.27691217,  0.        , -0.18257419],\n",
       "       [ 0.28650471,  0.49877846,  0.34692698,  0.76507407,  0.18257419,\n",
       "        -0.        ,  0.        ,  0.4476259 ,  0.05839892, -0.48612776,\n",
       "        -0.35981497,  0.        , -0.18257419],\n",
       "       [-1.37923059, -0.94227669, -0.07202176,  0.76507407,  0.18257419,\n",
       "        -0.        ,  0.        , -0.00264586,  0.63948002, -0.10656583,\n",
       "        -0.32228097,  0.        , -0.18257419],\n",
       "       [ 0.846301  ,  0.23783064,  0.80841513,  0.76507407,  0.18257419,\n",
       "        -0.        ,  0.        ,  1.65064615,  2.29840793, -1.36673134,\n",
       "        -1.68760104,  0.        , -0.18257419],\n",
       "       [-0.40982726,  0.8415159 ,  1.20416056,  0.76507407,  0.18257419,\n",
       "        -0.        ,  0.        ,  1.52995161,  1.84281426, -1.34667679,\n",
       "        -1.45822628,  0.        , -0.18257419],\n",
       "       [ 2.0409882 ,  0.91162128,  1.19835973,  0.16300568,  0.18257419,\n",
       "        -0.        ,  0.        ,  1.18261612,  0.48722434, -1.31210157,\n",
       "        -1.20258475,  0.        , -0.18257419],\n",
       "       [-0.72385932,  0.18330422, -0.63470214,  0.76507407,  0.18257419,\n",
       "        -0.        ,  0.        , -0.40537662, -0.23255296,  0.46025068,\n",
       "         0.48684119,  0.        , -0.18257419],\n",
       "       [-1.9731608 , -2.37554234, -1.27150423, -1.36514524,  0.18257419,\n",
       "        -0.        ,  0.        , -1.59094493, -0.90783521,  1.10619391,\n",
       "         0.98494091,  0.        , -0.18257419],\n",
       "       [-0.73751289, -1.85754144, -2.11842522, -1.59393683,  0.18257419,\n",
       "        -0.        ,  0.        , -1.88041269, -1.3661309 ,  1.66695905,\n",
       "         1.568183  ,  0.        , -0.18257419],\n",
       "       [ 0.3752529 ,  0.33130448, -0.58249469, -0.78546897,  0.18257419,\n",
       "        -0.        ,  0.        , -0.50540856, -0.75474693,  0.57960379,\n",
       "         0.59871347,  0.        , -0.18257419],\n",
       "       [-0.9901039 , -1.04743476,  0.61312057,  0.76507407,  0.18257419,\n",
       "        -0.        ,  0.        ,  0.13782902,  0.62902028, -0.25129017,\n",
       "        -0.3932138 ,  0.        , -0.18257419],\n",
       "       [-1.53624662, -0.33469668, -1.48033406,  0.76507407,  0.18257419,\n",
       "        -0.        ,  0.        , -0.79896117, -0.23877611,  1.29048779,\n",
       "         1.06743322,  0.        , -0.18257419],\n",
       "       [ 1.1876402 ,  0.69351564, -0.81259423, -1.21763708,  0.18257419,\n",
       "        -0.        ,  0.        , -0.77417696, -1.43904383,  0.82563991,\n",
       "         1.10939314,  0.        , -0.18257419],\n",
       "       [ 1.09206522,  0.09372512,  0.97921731,  0.08144234,  0.18257419,\n",
       "        -0.        ,  0.        ,  0.42880258,  0.04536494, -0.45537357,\n",
       "        -0.33285556,  0.        , -0.18257419],\n",
       "       [-1.82297155, -1.38238272, -2.71526604, -2.233624  ,  0.18257419,\n",
       "        -0.        ,  0.        , -2.74363483, -2.3886302 ,  2.79820317,\n",
       "         2.95312184,  0.        , -0.18257419],\n",
       "       [-1.17442707, -0.73196053, -0.31952378,  0.76507407,  0.18257419,\n",
       "        -0.        ,  0.        , -0.41100904,  0.09367245,  0.58380282,\n",
       "         0.4027966 ,  0.        , -0.18257419],\n",
       "       [ 1.0169706 ,  2.43836079,  1.06751882, -0.03516467,  0.18257419,\n",
       "        -0.        ,  0.        ,  0.93828043,  0.03743291, -0.86359734,\n",
       "        -0.64484237,  0.        , -0.18257419],\n",
       "       [ 1.33100266,  0.7792    ,  1.5560775 ,  0.12046063,  0.18257419,\n",
       "        -0.        ,  0.        ,  0.99011122,  0.49174918, -1.21180116,\n",
       "        -1.02604316,  0.        , -0.18257419],\n",
       "       [ 0.43669396,  0.33519923, -0.78294555, -2.11158689,  0.18257419,\n",
       "        -0.        ,  0.        , -1.00707017, -1.59439434,  0.78530337,\n",
       "         1.03203631,  0.        , -0.18257419],\n",
       "       [-0.38934691,  0.80256846,  0.41975961, -1.81214813,  0.18257419,\n",
       "        -0.        ,  0.        , -0.43446883, -1.17346741, -0.07327084,\n",
       "         0.32401132,  0.        , -0.18257419],\n",
       "       [ 0.3752529 ,  0.56888384,  0.48936955,  0.76507407,  0.18257419,\n",
       "        -0.        ,  0.        ,  1.26029259,  1.73705728, -0.89531491,\n",
       "        -1.16699262,  0.        , -0.18257419],\n",
       "       [ 0.13631546, -0.11659104, -0.28085159,  0.76507407,  0.18257419,\n",
       "        -0.        ,  0.        ,  0.10779441,  0.14228767,  0.1780449 ,\n",
       "         0.07185405,  0.        , -0.18257419],\n",
       "       [-0.63511113, -0.99290835, -0.40460261,  0.76507407,  0.18257419,\n",
       "        -0.        ,  0.        , -0.23262458,  0.28868541,  0.24201709,\n",
       "         0.01658654,  0.        , -0.18257419],\n",
       "       [ 0.21823687,  0.24562012,  0.45649819, -0.47125141,  0.18257419,\n",
       "        -0.        ,  0.        ,  0.22418791, -0.1183033 , -0.6573921 ,\n",
       "        -0.49777465,  0.        , -0.18257419],\n",
       "       [ 0.41621361, -0.70859207,  0.60087437, -0.97193943,  0.18257419,\n",
       "        -0.        ,  0.        , -0.06427122, -0.25951586, -0.23014285,\n",
       "        -0.14856975,  0.        , -0.18257419],\n",
       "       [-0.34155942, -0.33469668,  1.16742198,  0.76507407, -5.47722558,\n",
       "        -0.        ,  0.        ,  1.31116346,  1.09733623, -1.43957546,\n",
       "        -1.33771593,  0.        ,  5.47722558]])"
      ]
     },
     "execution_count": 879,
     "metadata": {},
     "output_type": "execute_result"
    }
   ],
   "source": [
    "StandardScaler().fit_transform(column_to_features['Credit_Limit'])"
   ]
  },
  {
   "cell_type": "code",
   "execution_count": null,
   "metadata": {},
   "outputs": [],
   "source": []
  },
  {
   "cell_type": "code",
   "execution_count": null,
   "metadata": {},
   "outputs": [],
   "source": []
  }
 ],
 "metadata": {
  "kernelspec": {
   "display_name": "Python 3",
   "language": "python",
   "name": "python3"
  },
  "language_info": {
   "codemirror_mode": {
    "name": "ipython",
    "version": 3
   },
   "file_extension": ".py",
   "mimetype": "text/x-python",
   "name": "python",
   "nbconvert_exporter": "python",
   "pygments_lexer": "ipython3",
   "version": "3.7.9"
  }
 },
 "nbformat": 4,
 "nbformat_minor": 4
}
